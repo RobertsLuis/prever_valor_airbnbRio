{
 "cells": [
  {
   "cell_type": "markdown",
   "metadata": {},
   "source": [
    "### IMPORTING LIBRARIES, AND CREATING JUST ONE DATASET WITH ALL ARCHIVES"
   ]
  },
  {
   "cell_type": "code",
   "execution_count": 2,
   "metadata": {},
   "outputs": [],
   "source": [
    "import pandas as pd\n",
    "import pathlib\n",
    "\n",
    "import seaborn as sns\n",
    "import matplotlib.pyplot as plt\n",
    "import numpy as np\n",
    "\n",
    "import plotly.io as pio\n",
    "import plotly.express as px"
   ]
  },
  {
   "cell_type": "markdown",
   "metadata": {},
   "source": [
    "### ADJUSTING OUR BASE TO APPLY OUR MODELS"
   ]
  },
  {
   "cell_type": "code",
   "execution_count": 45,
   "metadata": {},
   "outputs": [
    {
     "name": "stdout",
     "output_type": "stream",
     "text": [
      "Unnamed: 0                                1\n",
      "host_is_superhost                         t\n",
      "host_listings_count                     2.0\n",
      "latitude                         -22.965919\n",
      "longitude                        -43.178962\n",
      "property_type                   Condominium\n",
      "room_type                   Entire home/apt\n",
      "accommodates                              5\n",
      "bathrooms                               1.0\n",
      "bedrooms                                2.0\n",
      "beds                                    2.0\n",
      "bed_type                                Bed\n",
      "price                                 270.0\n",
      "extra_people                           51.0\n",
      "minimum_nights                            4\n",
      "instant_bookable                          t\n",
      "is_business_travel_ready                  f\n",
      "cancellation_policy                  strict\n",
      "ano                                    2018\n",
      "mes                                       4\n",
      "len_amenities                            25\n",
      "Name: 0, dtype: object\n"
     ]
    }
   ],
   "source": [
    "df = pd.read_csv('FinalDF.csv')\n",
    "\n",
    "df.dtypes\n",
    "print(df.loc[0])"
   ]
  },
  {
   "cell_type": "markdown",
   "metadata": {},
   "source": [
    "#### 't' and 'f' to Booleans"
   ]
  },
  {
   "cell_type": "code",
   "execution_count": 46,
   "metadata": {},
   "outputs": [
    {
     "name": "stdout",
     "output_type": "stream",
     "text": [
      "Unnamed: 0                                1\n",
      "host_is_superhost                      True\n",
      "host_listings_count                     2.0\n",
      "latitude                         -22.965919\n",
      "longitude                        -43.178962\n",
      "property_type                   Condominium\n",
      "room_type                   Entire home/apt\n",
      "accommodates                              5\n",
      "bathrooms                               1.0\n",
      "bedrooms                                2.0\n",
      "beds                                    2.0\n",
      "bed_type                                Bed\n",
      "price                                 270.0\n",
      "extra_people                           51.0\n",
      "minimum_nights                            4\n",
      "instant_bookable                       True\n",
      "is_business_travel_ready              False\n",
      "cancellation_policy                  strict\n",
      "ano                                    2018\n",
      "mes                                       4\n",
      "len_amenities                            25\n",
      "Name: 0, dtype: object\n"
     ]
    }
   ],
   "source": [
    "booleans = ['t', 'f']\n",
    "bool_columns =[]\n",
    "for column in df:\n",
    "    if df.loc[0][column] in booleans:\n",
    "        df[column] = df[column].replace('t', True).replace('f',False)\n",
    "print(df.loc[0])"
   ]
  },
  {
   "cell_type": "code",
   "execution_count": 47,
   "metadata": {},
   "outputs": [
    {
     "data": {
      "text/plain": [
       "Unnamed: 0                    int64\n",
       "host_is_superhost              bool\n",
       "host_listings_count         float64\n",
       "latitude                    float64\n",
       "longitude                   float64\n",
       "property_type                object\n",
       "room_type                    object\n",
       "accommodates                  int64\n",
       "bathrooms                   float64\n",
       "bedrooms                    float64\n",
       "beds                        float64\n",
       "bed_type                     object\n",
       "price                       float64\n",
       "extra_people                float64\n",
       "minimum_nights                int64\n",
       "instant_bookable               bool\n",
       "is_business_travel_ready       bool\n",
       "cancellation_policy          object\n",
       "ano                           int64\n",
       "mes                           int64\n",
       "len_amenities                 int64\n",
       "dtype: object"
      ]
     },
     "execution_count": 47,
     "metadata": {},
     "output_type": "execute_result"
    }
   ],
   "source": [
    "df.dtypes"
   ]
  },
  {
   "cell_type": "markdown",
   "metadata": {},
   "source": [
    "#### TEXT -> DUMMIES"
   ]
  },
  {
   "cell_type": "code",
   "execution_count": 48,
   "metadata": {},
   "outputs": [
    {
     "data": {
      "text/plain": [
       "Unnamed: 0                                           int64\n",
       "host_is_superhost                                     bool\n",
       "host_listings_count                                float64\n",
       "latitude                                           float64\n",
       "longitude                                          float64\n",
       "accommodates                                         int64\n",
       "bathrooms                                          float64\n",
       "bedrooms                                           float64\n",
       "beds                                               float64\n",
       "price                                              float64\n",
       "extra_people                                       float64\n",
       "minimum_nights                                       int64\n",
       "instant_bookable                                      bool\n",
       "is_business_travel_ready                              bool\n",
       "ano                                                  int64\n",
       "mes                                                  int64\n",
       "len_amenities                                        int64\n",
       "property_type_Apartment                               bool\n",
       "property_type_Bed and breakfast                       bool\n",
       "property_type_Condominium                             bool\n",
       "property_type_Guest suite                             bool\n",
       "property_type_Guesthouse                              bool\n",
       "property_type_Hostel                                  bool\n",
       "property_type_House                                   bool\n",
       "property_type_Loft                                    bool\n",
       "property_type_Others                                  bool\n",
       "property_type_Serviced apartment                      bool\n",
       "room_type_Entire home/apt                             bool\n",
       "room_type_Hotel room                                  bool\n",
       "room_type_Private room                                bool\n",
       "room_type_Shared room                                 bool\n",
       "bed_type_Bed                                          bool\n",
       "bed_type_Others                                       bool\n",
       "cancellation_policy_flexible                          bool\n",
       "cancellation_policy_moderate                          bool\n",
       "cancellation_policy_strict                            bool\n",
       "cancellation_policy_strict_14_with_grace_period       bool\n",
       "dtype: object"
      ]
     },
     "execution_count": 48,
     "metadata": {},
     "output_type": "execute_result"
    }
   ],
   "source": [
    "text_columns = []\n",
    "for column in df:\n",
    "    if df[column].dtype == 'object':\n",
    "        text_columns.append(column)\n",
    "\n",
    "df = pd.get_dummies(data=df, columns=text_columns)\n",
    "df.shape\n",
    "\n",
    "df.dtypes"
   ]
  },
  {
   "cell_type": "markdown",
   "metadata": {},
   "source": [
    "### APLLYING MODELS"
   ]
  },
  {
   "cell_type": "code",
   "execution_count": 49,
   "metadata": {},
   "outputs": [],
   "source": [
    "import numpy as np\n",
    "from sklearn.metrics import r2_score, mean_squared_error\n",
    "from sklearn.linear_model import LinearRegression\n",
    "from sklearn.ensemble import RandomForestRegressor, ExtraTreesRegressor\n",
    "from sklearn.model_selection import train_test_split\n",
    "import seaborn as sns\n",
    "import matplotlib.pyplot as plt\n",
    "import time"
   ]
  },
  {
   "cell_type": "code",
   "execution_count": 50,
   "metadata": {},
   "outputs": [],
   "source": [
    "def test_model(model_name, y_test, prediction):\n",
    "    r2 = r2_score(y_test, prediction)\n",
    "    rsme = np.sqrt(mean_squared_error(y_test, prediction))\n",
    "    print(f'{model_name} Model: \\nR²: {r2:.2%}\\nRSME: {rsme:.2f}\\n')\n",
    "\n",
    "model_rf = RandomForestRegressor()\n",
    "model_lr = LinearRegression()\n",
    "model_et = ExtraTreesRegressor()\n",
    "\n",
    "models = {'RandomForest': model_rf,\n",
    "          'LinearRegression': model_lr,\n",
    "          'ExtraTrees': model_et}\n",
    "\n",
    "y= df['price']\n",
    "x= df.drop('price', axis=1)\n",
    "\n",
    "\n"
   ]
  },
  {
   "cell_type": "code",
   "execution_count": 51,
   "metadata": {},
   "outputs": [
    {
     "name": "stderr",
     "output_type": "stream",
     "text": [
      "c:\\Users\\bejr2\\anaconda3\\lib\\site-packages\\sklearn\\utils\\validation.py:623: FutureWarning: is_sparse is deprecated and will be removed in a future version. Check `isinstance(dtype, pd.SparseDtype)` instead.\n",
      "  if not hasattr(array, \"sparse\") and array.dtypes.apply(is_sparse).any():\n",
      "c:\\Users\\bejr2\\anaconda3\\lib\\site-packages\\sklearn\\utils\\validation.py:623: FutureWarning: is_sparse is deprecated and will be removed in a future version. Check `isinstance(dtype, pd.SparseDtype)` instead.\n",
      "  if not hasattr(array, \"sparse\") and array.dtypes.apply(is_sparse).any():\n"
     ]
    },
    {
     "name": "stdout",
     "output_type": "stream",
     "text": [
      "RandomForest Model: \n",
      "R²: 97.05%\n",
      "RSME: 45.52\n",
      "\n",
      "Duration:00:04:58\n",
      "\n"
     ]
    },
    {
     "name": "stderr",
     "output_type": "stream",
     "text": [
      "c:\\Users\\bejr2\\anaconda3\\lib\\site-packages\\sklearn\\utils\\validation.py:623: FutureWarning: is_sparse is deprecated and will be removed in a future version. Check `isinstance(dtype, pd.SparseDtype)` instead.\n",
      "  if not hasattr(array, \"sparse\") and array.dtypes.apply(is_sparse).any():\n",
      "c:\\Users\\bejr2\\anaconda3\\lib\\site-packages\\sklearn\\utils\\validation.py:623: FutureWarning: is_sparse is deprecated and will be removed in a future version. Check `isinstance(dtype, pd.SparseDtype)` instead.\n",
      "  if not hasattr(array, \"sparse\") and array.dtypes.apply(is_sparse).any():\n"
     ]
    },
    {
     "name": "stdout",
     "output_type": "stream",
     "text": [
      "LinearRegression Model: \n",
      "R²: 32.71%\n",
      "RSME: 217.53\n",
      "\n",
      "Duration:00:00:01\n",
      "\n"
     ]
    },
    {
     "name": "stderr",
     "output_type": "stream",
     "text": [
      "c:\\Users\\bejr2\\anaconda3\\lib\\site-packages\\sklearn\\utils\\validation.py:623: FutureWarning: is_sparse is deprecated and will be removed in a future version. Check `isinstance(dtype, pd.SparseDtype)` instead.\n",
      "  if not hasattr(array, \"sparse\") and array.dtypes.apply(is_sparse).any():\n",
      "c:\\Users\\bejr2\\anaconda3\\lib\\site-packages\\sklearn\\utils\\validation.py:623: FutureWarning: is_sparse is deprecated and will be removed in a future version. Check `isinstance(dtype, pd.SparseDtype)` instead.\n",
      "  if not hasattr(array, \"sparse\") and array.dtypes.apply(is_sparse).any():\n"
     ]
    },
    {
     "name": "stdout",
     "output_type": "stream",
     "text": [
      "ExtraTrees Model: \n",
      "R²: 97.41%\n",
      "RSME: 42.71\n",
      "\n",
      "Duration:00:04:01\n",
      "\n"
     ]
    }
   ],
   "source": [
    "x_train, x_test, y_train, y_test = train_test_split(x, y, random_state=10) #random state just to fix the \"randomic split\")\n",
    "                                                    \n",
    "for model_name, model in models.items():\n",
    "    st = time.time()\n",
    "    \n",
    "    #train\n",
    "    model.fit(x_train, y_train)\n",
    "    #test\n",
    "    prediction = model.predict(x_test)\n",
    "    test_model(model_name, y_test, prediction)\n",
    "    \n",
    "    ft = time.time()\n",
    "    dt = ft - st\n",
    "    dt = time.strftime(\"%H:%M:%S\", time.gmtime(dt))\n",
    "    print(f'Duration:{dt}\\n')\n"
   ]
  },
  {
   "cell_type": "markdown",
   "metadata": {},
   "source": []
  },
  {
   "cell_type": "code",
   "execution_count": 52,
   "metadata": {},
   "outputs": [
    {
     "data": {
      "text/html": [
       "<div>\n",
       "<style scoped>\n",
       "    .dataframe tbody tr th:only-of-type {\n",
       "        vertical-align: middle;\n",
       "    }\n",
       "\n",
       "    .dataframe tbody tr th {\n",
       "        vertical-align: top;\n",
       "    }\n",
       "\n",
       "    .dataframe thead th {\n",
       "        text-align: right;\n",
       "    }\n",
       "</style>\n",
       "<table border=\"1\" class=\"dataframe\">\n",
       "  <thead>\n",
       "    <tr style=\"text-align: right;\">\n",
       "      <th></th>\n",
       "      <th>Importance (%)</th>\n",
       "    </tr>\n",
       "  </thead>\n",
       "  <tbody>\n",
       "    <tr>\n",
       "      <th>is_business_travel_ready</th>\n",
       "      <td>0.000000</td>\n",
       "    </tr>\n",
       "    <tr>\n",
       "      <th>room_type_Hotel room</th>\n",
       "      <td>0.000322</td>\n",
       "    </tr>\n",
       "    <tr>\n",
       "      <th>property_type_Hostel</th>\n",
       "      <td>0.000651</td>\n",
       "    </tr>\n",
       "    <tr>\n",
       "      <th>property_type_Guest suite</th>\n",
       "      <td>0.000680</td>\n",
       "    </tr>\n",
       "    <tr>\n",
       "      <th>cancellation_policy_strict</th>\n",
       "      <td>0.000826</td>\n",
       "    </tr>\n",
       "    <tr>\n",
       "      <th>property_type_Guesthouse</th>\n",
       "      <td>0.000926</td>\n",
       "    </tr>\n",
       "    <tr>\n",
       "      <th>property_type_Bed and breakfast</th>\n",
       "      <td>0.001276</td>\n",
       "    </tr>\n",
       "    <tr>\n",
       "      <th>room_type_Shared room</th>\n",
       "      <td>0.001878</td>\n",
       "    </tr>\n",
       "    <tr>\n",
       "      <th>Unnamed: 0</th>\n",
       "      <td>0.002063</td>\n",
       "    </tr>\n",
       "    <tr>\n",
       "      <th>property_type_Loft</th>\n",
       "      <td>0.002152</td>\n",
       "    </tr>\n",
       "    <tr>\n",
       "      <th>property_type_Serviced apartment</th>\n",
       "      <td>0.002191</td>\n",
       "    </tr>\n",
       "    <tr>\n",
       "      <th>property_type_Others</th>\n",
       "      <td>0.002394</td>\n",
       "    </tr>\n",
       "    <tr>\n",
       "      <th>bed_type_Others</th>\n",
       "      <td>0.002660</td>\n",
       "    </tr>\n",
       "    <tr>\n",
       "      <th>bed_type_Bed</th>\n",
       "      <td>0.002709</td>\n",
       "    </tr>\n",
       "    <tr>\n",
       "      <th>mes</th>\n",
       "      <td>0.003527</td>\n",
       "    </tr>\n",
       "    <tr>\n",
       "      <th>room_type_Private room</th>\n",
       "      <td>0.004278</td>\n",
       "    </tr>\n",
       "    <tr>\n",
       "      <th>property_type_Condominium</th>\n",
       "      <td>0.005184</td>\n",
       "    </tr>\n",
       "    <tr>\n",
       "      <th>property_type_House</th>\n",
       "      <td>0.007049</td>\n",
       "    </tr>\n",
       "    <tr>\n",
       "      <th>cancellation_policy_strict_14_with_grace_period</th>\n",
       "      <td>0.007670</td>\n",
       "    </tr>\n",
       "    <tr>\n",
       "      <th>ano</th>\n",
       "      <td>0.011243</td>\n",
       "    </tr>\n",
       "    <tr>\n",
       "      <th>cancellation_policy_moderate</th>\n",
       "      <td>0.012237</td>\n",
       "    </tr>\n",
       "    <tr>\n",
       "      <th>property_type_Apartment</th>\n",
       "      <td>0.012659</td>\n",
       "    </tr>\n",
       "    <tr>\n",
       "      <th>host_is_superhost</th>\n",
       "      <td>0.013232</td>\n",
       "    </tr>\n",
       "    <tr>\n",
       "      <th>cancellation_policy_flexible</th>\n",
       "      <td>0.019665</td>\n",
       "    </tr>\n",
       "    <tr>\n",
       "      <th>instant_bookable</th>\n",
       "      <td>0.022128</td>\n",
       "    </tr>\n",
       "    <tr>\n",
       "      <th>host_listings_count</th>\n",
       "      <td>0.039946</td>\n",
       "    </tr>\n",
       "    <tr>\n",
       "      <th>beds</th>\n",
       "      <td>0.052963</td>\n",
       "    </tr>\n",
       "    <tr>\n",
       "      <th>room_type_Entire home/apt</th>\n",
       "      <td>0.063488</td>\n",
       "    </tr>\n",
       "    <tr>\n",
       "      <th>minimum_nights</th>\n",
       "      <td>0.064915</td>\n",
       "    </tr>\n",
       "    <tr>\n",
       "      <th>accommodates</th>\n",
       "      <td>0.071215</td>\n",
       "    </tr>\n",
       "    <tr>\n",
       "      <th>bathrooms</th>\n",
       "      <td>0.073689</td>\n",
       "    </tr>\n",
       "    <tr>\n",
       "      <th>extra_people</th>\n",
       "      <td>0.086137</td>\n",
       "    </tr>\n",
       "    <tr>\n",
       "      <th>len_amenities</th>\n",
       "      <td>0.089158</td>\n",
       "    </tr>\n",
       "    <tr>\n",
       "      <th>longitude</th>\n",
       "      <td>0.101602</td>\n",
       "    </tr>\n",
       "    <tr>\n",
       "      <th>latitude</th>\n",
       "      <td>0.103496</td>\n",
       "    </tr>\n",
       "    <tr>\n",
       "      <th>bedrooms</th>\n",
       "      <td>0.113789</td>\n",
       "    </tr>\n",
       "  </tbody>\n",
       "</table>\n",
       "</div>"
      ],
      "text/plain": [
       "                                                 Importance (%)\n",
       "is_business_travel_ready                               0.000000\n",
       "room_type_Hotel room                                   0.000322\n",
       "property_type_Hostel                                   0.000651\n",
       "property_type_Guest suite                              0.000680\n",
       "cancellation_policy_strict                             0.000826\n",
       "property_type_Guesthouse                               0.000926\n",
       "property_type_Bed and breakfast                        0.001276\n",
       "room_type_Shared room                                  0.001878\n",
       "Unnamed: 0                                             0.002063\n",
       "property_type_Loft                                     0.002152\n",
       "property_type_Serviced apartment                       0.002191\n",
       "property_type_Others                                   0.002394\n",
       "bed_type_Others                                        0.002660\n",
       "bed_type_Bed                                           0.002709\n",
       "mes                                                    0.003527\n",
       "room_type_Private room                                 0.004278\n",
       "property_type_Condominium                              0.005184\n",
       "property_type_House                                    0.007049\n",
       "cancellation_policy_strict_14_with_grace_period        0.007670\n",
       "ano                                                    0.011243\n",
       "cancellation_policy_moderate                           0.012237\n",
       "property_type_Apartment                                0.012659\n",
       "host_is_superhost                                      0.013232\n",
       "cancellation_policy_flexible                           0.019665\n",
       "instant_bookable                                       0.022128\n",
       "host_listings_count                                    0.039946\n",
       "beds                                                   0.052963\n",
       "room_type_Entire home/apt                              0.063488\n",
       "minimum_nights                                         0.064915\n",
       "accommodates                                           0.071215\n",
       "bathrooms                                              0.073689\n",
       "extra_people                                           0.086137\n",
       "len_amenities                                          0.089158\n",
       "longitude                                              0.101602\n",
       "latitude                                               0.103496\n",
       "bedrooms                                               0.113789"
      ]
     },
     "metadata": {},
     "output_type": "display_data"
    },
    {
     "name": "stderr",
     "output_type": "stream",
     "text": [
      "c:\\Users\\bejr2\\anaconda3\\lib\\site-packages\\seaborn\\_core.py:1225: FutureWarning: is_categorical_dtype is deprecated and will be removed in a future version. Use isinstance(dtype, CategoricalDtype) instead\n",
      "  if pd.api.types.is_categorical_dtype(vector):\n",
      "c:\\Users\\bejr2\\anaconda3\\lib\\site-packages\\seaborn\\_core.py:1225: FutureWarning: is_categorical_dtype is deprecated and will be removed in a future version. Use isinstance(dtype, CategoricalDtype) instead\n",
      "  if pd.api.types.is_categorical_dtype(vector):\n",
      "c:\\Users\\bejr2\\anaconda3\\lib\\site-packages\\seaborn\\_core.py:1225: FutureWarning: is_categorical_dtype is deprecated and will be removed in a future version. Use isinstance(dtype, CategoricalDtype) instead\n",
      "  if pd.api.types.is_categorical_dtype(vector):\n"
     ]
    },
    {
     "data": {
      "image/png": "[encoded data removed]",
      "text/plain": [
       "<Figure size 1500x500 with 1 Axes>"
      ]
     },
     "metadata": {},
     "output_type": "display_data"
    }
   ],
   "source": [
    "importance_df = pd.DataFrame(model_et.feature_importances_, x_train.columns)\n",
    "importance_df = importance_df.rename(columns={0: 'Importance (%)'})\n",
    "importance_df = importance_df.sort_values(by='Importance (%)', ascending=True)\n",
    "display (importance_df)\n",
    "\n",
    "plt.figure(figsize=(15,5))\n",
    "graph = sns.barplot(x= importance_df.index, y=importance_df['Importance (%)'])\n",
    "\n",
    "graph.tick_params(axis='x', rotation=90)\n",
    "\n"
   ]
  },
  {
   "cell_type": "markdown",
   "metadata": {},
   "source": [
    "I'll delete columns that doesn't significantly affect my prediction, in order to simplificate our model."
   ]
  },
  {
   "cell_type": "markdown",
   "metadata": {},
   "source": [
    "ExtraTrees Model: \n",
    "R²: 97.41%\n",
    "RSME: 42.71\n",
    "\n",
    "Duration:00:04:01"
   ]
  },
  {
   "cell_type": "code",
   "execution_count": 53,
   "metadata": {},
   "outputs": [
    {
     "name": "stdout",
     "output_type": "stream",
     "text": [
      "Index(['Unnamed: 0', 'host_is_superhost', 'host_listings_count', 'latitude',\n",
      "       'longitude', 'accommodates', 'bathrooms', 'bedrooms', 'beds', 'price',\n",
      "       'extra_people', 'minimum_nights', 'instant_bookable',\n",
      "       'is_business_travel_ready', 'ano', 'mes', 'len_amenities',\n",
      "       'property_type_Apartment', 'property_type_Bed and breakfast',\n",
      "       'property_type_Condominium', 'property_type_Guest suite',\n",
      "       'property_type_Guesthouse', 'property_type_Hostel',\n",
      "       'property_type_House', 'property_type_Loft', 'property_type_Others',\n",
      "       'property_type_Serviced apartment', 'room_type_Entire home/apt',\n",
      "       'room_type_Hotel room', 'room_type_Private room',\n",
      "       'room_type_Shared room', 'bed_type_Bed', 'bed_type_Others',\n",
      "       'cancellation_policy_flexible', 'cancellation_policy_moderate',\n",
      "       'cancellation_policy_strict',\n",
      "       'cancellation_policy_strict_14_with_grace_period'],\n",
      "      dtype='object')\n",
      "Index(['host_is_superhost', 'host_listings_count', 'latitude', 'longitude',\n",
      "       'accommodates', 'bathrooms', 'bedrooms', 'beds', 'price',\n",
      "       'extra_people', 'minimum_nights', 'instant_bookable', 'ano', 'mes',\n",
      "       'len_amenities', 'property_type_Apartment', 'property_type_Condominium',\n",
      "       'property_type_House', 'property_type_Loft', 'property_type_Others',\n",
      "       'property_type_Serviced apartment', 'room_type_Entire home/apt',\n",
      "       'room_type_Private room', 'bed_type_Bed', 'bed_type_Others',\n",
      "       'cancellation_policy_flexible', 'cancellation_policy_moderate',\n",
      "       'cancellation_policy_strict_14_with_grace_period'],\n",
      "      dtype='object')\n"
     ]
    }
   ],
   "source": [
    "filterd_importance = importance_df[importance_df['Importance (%)'] < 0.0021]\n",
    "columns_toDel = list(filterd_importance.index)\n",
    "\n",
    "print(df.columns)\n",
    "\n",
    "for column in columns_toDel:\n",
    "    df = df.drop(column, axis=1)\n",
    "\n",
    "print(df.columns)\n",
    "\n"
   ]
  },
  {
   "cell_type": "code",
   "execution_count": 55,
   "metadata": {},
   "outputs": [
    {
     "name": "stderr",
     "output_type": "stream",
     "text": [
      "c:\\Users\\bejr2\\anaconda3\\lib\\site-packages\\sklearn\\utils\\validation.py:623: FutureWarning: is_sparse is deprecated and will be removed in a future version. Check `isinstance(dtype, pd.SparseDtype)` instead.\n",
      "  if not hasattr(array, \"sparse\") and array.dtypes.apply(is_sparse).any():\n",
      "c:\\Users\\bejr2\\anaconda3\\lib\\site-packages\\sklearn\\utils\\validation.py:623: FutureWarning: is_sparse is deprecated and will be removed in a future version. Check `isinstance(dtype, pd.SparseDtype)` instead.\n",
      "  if not hasattr(array, \"sparse\") and array.dtypes.apply(is_sparse).any():\n"
     ]
    },
    {
     "name": "stdout",
     "output_type": "stream",
     "text": [
      "ExtraTrees Model: \n",
      "R²: 97.51%\n",
      "RSME: 41.85\n",
      "\n",
      "Duration:00:03:11\n",
      "\n"
     ]
    }
   ],
   "source": [
    "y= df['price']\n",
    "x= df.drop('price', axis=1)\n",
    "x_train, x_test, y_train, y_test = train_test_split(x, y, random_state=10) #random state just to fix the \"randomic split\")\n",
    "\n",
    "st = time.time()\n",
    "\n",
    "#train\n",
    "model_et.fit(x_train, y_train)\n",
    "#test\n",
    "prediction = model_et.predict(x_test)\n",
    "test_model(\"ExtraTrees\", y_test, prediction)\n",
    "\n",
    "ft = time.time()\n",
    "dt = ft - st\n",
    "dt = time.strftime(\"%H:%M:%S\", time.gmtime(dt))\n",
    "print(f'Duration:{dt}\\n')"
   ]
  },
  {
   "cell_type": "markdown",
   "metadata": {},
   "source": [
    "### EXPORTING THE FINAL RESULT "
   ]
  },
  {
   "cell_type": "code",
   "execution_count": 57,
   "metadata": {},
   "outputs": [
    {
     "data": {
      "text/plain": [
       "['FinalModel.joblib']"
      ]
     },
     "execution_count": 57,
     "metadata": {},
     "output_type": "execute_result"
    }
   ],
   "source": [
    "df.to_csv('FinalDF_2.csv')\n",
    "import joblib\n",
    "\n",
    "joblib.dump(model_et, \"FinalModel.joblib\")"
   ]
  }
 ],
 "metadata": {
  "kernelspec": {
   "display_name": "Python 3",
   "language": "python",
   "name": "python3"
  },
  "language_info": {
   "codemirror_mode": {
    "name": "ipython",
    "version": 3
   },
   "file_extension": ".py",
   "mimetype": "text/x-python",
   "name": "python",
   "nbconvert_exporter": "python",
   "pygments_lexer": "ipython3",
   "version": "3.9.13"
  },
  "orig_nbformat": 4
 },
 "nbformat": 4,
 "nbformat_minor": 2
}
